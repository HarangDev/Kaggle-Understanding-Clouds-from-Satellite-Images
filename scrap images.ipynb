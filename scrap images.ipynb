{
 "cells": [
  {
   "cell_type": "code",
   "execution_count": 1,
   "metadata": {},
   "outputs": [],
   "source": [
    "import os\n",
    "from multiprocess import Pool\n",
    "import datetime as dt\n",
    "from datetime import date\n",
    "from dateutil.rrule import rrule, DAILY\n",
    "from tqdm import tqdm"
   ]
  },
  {
   "cell_type": "code",
   "execution_count": 2,
   "metadata": {},
   "outputs": [
    {
     "name": "stdout",
     "output_type": "stream",
     "text": [
      "Number of urls: 28730\n",
      "Sample urls: ('2012-01-01', 'Aqua', 'atlantic') \n",
      " ('2012-01-01', 'Terra', 'atlantic')\n"
     ]
    }
   ],
   "source": [
    "regions = ['atlantic', 'south_atlantic', 'east_pacific', 'south_pacific_1', 'south_pacific_2']\n",
    "start_date = date(2012, 1, 1)\n",
    "end_date = date(2019, 11, 12)\n",
    "\n",
    "def get_urls():\n",
    "    all_urls = []\n",
    "    for dt in rrule(DAILY, dtstart=start_date, until=end_date):\n",
    "        current_date = dt.strftime(\"%Y-%m-%d\")\n",
    "        for region in regions:\n",
    "            for satellite in ['Aqua', 'Terra']:\n",
    "                all_urls.append((str(current_date), str(satellite), str(region)))\n",
    "    return all_urls\n",
    "\n",
    "\n",
    "urls = get_urls()\n",
    "print(\"Number of urls:\", len(urls))\n",
    "print(\"Sample urls:\", urls[0], '\\n', urls[1])"
   ]
  },
  {
   "cell_type": "code",
   "execution_count": 3,
   "metadata": {},
   "outputs": [
    {
     "name": "stderr",
     "output_type": "stream",
     "text": [
      "100%|██████████████████████████████████████████████████████████████████████████████| 3746/3746 [18:46<00:00,  2.03it/s]\n"
     ]
    }
   ],
   "source": [
    "def save_images(url):\n",
    "    import requests\n",
    "    from PIL import Image\n",
    "    from io import BytesIO\n",
    "    import random\n",
    "    import string\n",
    "    from requests.adapters import HTTPAdapter\n",
    "    from requests.packages.urllib3.util.retry import Retry\n",
    "    current_date, satellite, region = url\n",
    "    if region == 'atlantic':\n",
    "        bottom, left, top, right = [10.08984375, -54.597656250000014,  24.08984375, -33.597656250000014]\n",
    "    elif region == 'south_atlantic':\n",
    "        bottom, left, top, right = [-21.48046875,  -28.160156250000014, -7.48046875, -7.160156250000014]\n",
    "    elif region == 'east_pacific':\n",
    "        bottom, left, top, right = [9.66796875, 132.01171875, 23.66796875, 153.01171875]\n",
    "    elif region == 'south_pacific_1':\n",
    "        bottom, left, top, right = [-20.63671875, -110.56640624999997, -6.63671875, -89.56640624999997]\n",
    "    elif region == 'south_pacific_2':\n",
    "        bottom, left, top, right = [-20.49609375, -149.02734374999997,  -6.49609375,-128.02734374999997]\n",
    "    url = 'https://wvs.earthdata.nasa.gov/api/v1/snapshot?REQUEST=GetSnapshot&TIME={}T00:00:00Z&BBOX={},{},{},{}&CRS=EPSG:4326&LAYERS=MODIS_{}_CorrectedReflectance_TrueColor,Coastlines&WRAP=day,x&FORMAT=image/jpeg&WIDTH=480&HEIGHT=320&ts=1569875246328'.format(current_date, bottom, left, top, right, satellite)\n",
    "    session = requests.Session()\n",
    "    retry = Retry(connect=3, backoff_factor=0.5)\n",
    "    adapter = HTTPAdapter(max_retries=retry)\n",
    "    session.mount('http://', adapter)\n",
    "    session.mount('https://', adapter)\n",
    "    response = requests.get(url)\n",
    "    img = Image.open(BytesIO(response.content))\n",
    "    name = '_'.join([current_date, region, satellite])\n",
    "    img.save(\"data/unlabeled/\" + name + \".jpg\")\n",
    "    return name\n",
    "\n",
    "with Pool(8) as pool:\n",
    "    urls = urls[24984:]\n",
    "    results = list(tqdm(pool.imap(save_images, urls), total=len(urls)))"
   ]
  },
  {
   "cell_type": "code",
   "execution_count": null,
   "metadata": {},
   "outputs": [],
   "source": []
  }
 ],
 "metadata": {
  "kernelspec": {
   "display_name": "Python 3",
   "language": "python",
   "name": "python3"
  },
  "language_info": {
   "codemirror_mode": {
    "name": "ipython",
    "version": 3
   },
   "file_extension": ".py",
   "mimetype": "text/x-python",
   "name": "python",
   "nbconvert_exporter": "python",
   "pygments_lexer": "ipython3",
   "version": "3.7.4"
  }
 },
 "nbformat": 4,
 "nbformat_minor": 2
}
