{
 "cells": [
  {
   "cell_type": "code",
   "execution_count": 1,
   "metadata": {},
   "outputs": [
    {
     "data": {
      "application/javascript": [
       "if (window.IPython && IPython.notebook.kernel) IPython.notebook.kernel.execute('jovian.utils.jupyter.get_notebook_name_saved = lambda: \"' + IPython.notebook.notebook_name + '\"')"
      ],
      "text/plain": [
       "<IPython.core.display.Javascript object>"
      ]
     },
     "metadata": {},
     "output_type": "display_data"
    },
    {
     "name": "stderr",
     "output_type": "stream",
     "text": [
      "WARNING: Logging before flag parsing goes to stderr.\n",
      "W1119 10:53:12.936841 21948 deprecation_wrapper.py:119] From ..\\harang\\vision.py:22: The name tf.ConfigProto is deprecated. Please use tf.compat.v1.ConfigProto instead.\n",
      "\n",
      "W1119 10:53:12.939841 21948 deprecation_wrapper.py:119] From ..\\harang\\vision.py:24: The name tf.Session is deprecated. Please use tf.compat.v1.Session instead.\n",
      "\n",
      "W1119 10:53:13.765027 21948 deprecation_wrapper.py:119] From ..\\harang\\vision.py:25: The name tf.keras.backend.set_session is deprecated. Please use tf.compat.v1.keras.backend.set_session instead.\n",
      "\n"
     ]
    }
   ],
   "source": [
    "import pandas as pd\n",
    "import numpy as np\n",
    "import sys\n",
    "sys.path.append('..')\n",
    "from harang import utils, vision\n",
    "from sklearn.metrics import precision_recall_curve, auc\n",
    "import gc\n",
    "import cv2\n",
    "import matplotlib.pyplot as plt"
   ]
  },
  {
   "cell_type": "markdown",
   "metadata": {},
   "source": [
    "# Classification"
   ]
  },
  {
   "cell_type": "code",
   "execution_count": 2,
   "metadata": {},
   "outputs": [],
   "source": [
    "def pr_auc(true, pred):\n",
    "    pr_auc_mean = 0\n",
    "    for class_i in range(4):\n",
    "        precision, recall, _ = precision_recall_curve(true[:, class_i], pred[:, class_i])\n",
    "        pr_auc = auc(recall, precision)\n",
    "        pr_auc_mean += pr_auc/4\n",
    "    return pr_auc_mean"
   ]
  },
  {
   "cell_type": "code",
   "execution_count": 3,
   "metadata": {},
   "outputs": [],
   "source": [
    "oof_stage1 = utils.from_pickle('stage1/oof_preds/cls/ensemble_0.8663.pkl')\n",
    "oof_stage2 = utils.from_pickle('stage2/oof_preds/cls/ensemble_0.8714.pkl')\n",
    "oof_true = utils.from_pickle('data/y_data.pkl').sum(axis=(1,2))!=0"
   ]
  },
  {
   "cell_type": "code",
   "execution_count": 4,
   "metadata": {},
   "outputs": [
    {
     "name": "stdout",
     "output_type": "stream",
     "text": [
      "0.8698919590463585\n"
     ]
    },
    {
     "data": {
      "text/plain": [
       "93"
      ]
     },
     "execution_count": 4,
     "metadata": {},
     "output_type": "execute_result"
    }
   ],
   "source": [
    "w1, w2  = 0.5, 0.5\n",
    "oof_pred = w1*oof_stage1 + w2*oof_stage2\n",
    "score = pr_auc(oof_true, oof_pred)\n",
    "print(score)\n",
    "gc.collect()"
   ]
  },
  {
   "cell_type": "code",
   "execution_count": 5,
   "metadata": {},
   "outputs": [],
   "source": [
    "test_stage1 = utils.from_pickle('stage1/test_preds/cls/ensemble_0.8663.pkl')\n",
    "test_stage2 = utils.from_pickle('stage2/test_preds/cls/ensemble_0.8714.pkl')\n",
    "test_pred = w1*test_stage1 + w2*test_stage2"
   ]
  },
  {
   "cell_type": "code",
   "execution_count": 6,
   "metadata": {},
   "outputs": [],
   "source": [
    "utils.to_pickle(f'final/cls_ensemble_oof_{str(score)[:6]}.pkl', oof_pred)\n",
    "utils.to_pickle(f'final/cls_ensemble_test_{str(score)[:6]}.pkl', test_pred)"
   ]
  },
  {
   "cell_type": "markdown",
   "metadata": {},
   "source": [
    "# Segmentation"
   ]
  },
  {
   "cell_type": "code",
   "execution_count": 3,
   "metadata": {},
   "outputs": [],
   "source": [
    "def single_dice_metric(y_true, y_pred_bin):\n",
    "    intersection = np.sum(y_true * y_pred_bin)\n",
    "    if (np.sum(y_true)==0) and (np.sum(y_pred_bin)==0):\n",
    "        return 1\n",
    "    return (2*intersection) / (np.sum(y_true) + np.sum(y_pred_bin))\n",
    "\n",
    "def dice_metric(y_true, y_pred_bin):\n",
    "    batch_size = y_true.shape[0]\n",
    "    channel_num = y_true.shape[-1]\n",
    "    mean_dice_metric = 0.\n",
    "    for i in range(batch_size):\n",
    "        for j in range(channel_num):\n",
    "            mean_dice_metric += single_dice_metric(y_true[i, :, :, j], y_pred_bin[i, :, :, j]) / (channel_num*batch_size)\n",
    "    return mean_dice_metric"
   ]
  },
  {
   "cell_type": "code",
   "execution_count": 9,
   "metadata": {},
   "outputs": [],
   "source": [
    "def draw_convex_hull(mask, mode='convex'):\n",
    "    \n",
    "    img = np.zeros(mask.shape)\n",
    "    contours, hier = cv2.findContours(mask.astype(np.uint8), cv2.RETR_TREE, cv2.CHAIN_APPROX_SIMPLE)\n",
    "    \n",
    "    for c in contours:\n",
    "        if mode=='rect': # simple rectangle\n",
    "            x, y, w, h = cv2.boundingRect(c)\n",
    "            cv2.rectangle(img, (x, y), (x+w, y+h), (255, 255, 255), -1)\n",
    "        elif mode=='convex': # minimum convex hull\n",
    "            hull = cv2.convexHull(c)\n",
    "            cv2.drawContours(img, [hull], 0, (255, 255, 255),-1)\n",
    "        elif mode=='approx':\n",
    "            epsilon = 0.02*cv2.arcLength(c,True)\n",
    "            approx = cv2.approxPolyDP(c,epsilon,True)\n",
    "            cv2.drawContours(img, [approx], 0, (255, 255, 255),-1)\n",
    "        else: # minimum area rectangle\n",
    "            rect = cv2.minAreaRect(c)\n",
    "            box = cv2.boxPoints(rect)\n",
    "            box = np.int0(box)\n",
    "            cv2.drawContours(img, [box], 0, (255, 255, 255),-1)\n",
    "            \n",
    "    return (img/255.).astype(np.uint8)\n",
    "\n",
    "def fill_mask(pred, pred_bin, cls_pred, thresh, step):\n",
    "    fix_indices = np.where(pred_bin.sum(axis=(1,2,3))==0)[0]\n",
    "    if len(fix_indices) == 0:\n",
    "        return pred_bin\n",
    "    new_thresh = thresh-step\n",
    "    fix_channels = cls_pred[fix_indices].argmax(axis=1)\n",
    "    for i,c in zip(fix_indices, fix_channels):\n",
    "        pred_bin[i,:,:,c] = (pred[i,:,:,c]>new_thresh).astype(np.uint8)\n",
    "    pred_bin[fix_indices] = (pred[fix_indices]>new_thresh).astype(np.uint8)\n",
    "    return fill_mask(pred, pred_bin, cls_pred, new_thresh, step)\n",
    "\n",
    "def postprocess(y_pred, cls_pred=None, min_cls=0.6, min_prob=0.5, min_size=None, fill_step=None, convex=True):\n",
    "    if cls_pred is not None:\n",
    "        min_cls_pass = (cls_pred>min_cls).reshape(-1, 1, 1, 4)\n",
    "        y_pred = y_pred * min_cls_pass\n",
    "    mask = (y_pred>min_prob).astype(np.uint8)\n",
    "    res = np.zeros(mask.shape, dtype=np.uint8)\n",
    "    if min_size:\n",
    "        for i in range(len(mask)):\n",
    "            for j in range(4):\n",
    "                tmp = mask[i, :, :, j].copy()\n",
    "                num_component, component = cv2.connectedComponents(tmp.astype(np.uint8))\n",
    "                for c in range(1, num_component):\n",
    "                    p = (component == c)\n",
    "                    if p.sum() < min_size*tmp.shape[0]*tmp.shape[1]:\n",
    "                        tmp[p] = 0\n",
    "                res[i, :, :, j] = tmp\n",
    "        mask = res\n",
    "    if fill_step:\n",
    "        mask = fill_mask(y_pred, mask, cls_pred, min_prob, fill_step)\n",
    "    if convex:\n",
    "        res = np.zeros(mask.shape, dtype=np.uint8)\n",
    "        for i in range(len(mask)):\n",
    "            for j in range(4):\n",
    "                tmp = mask[i, :, :, j]\n",
    "                res[i, :, :, j] = draw_convex_hull(tmp)\n",
    "        mask = res\n",
    "    return mask"
   ]
  },
  {
   "cell_type": "code",
   "execution_count": 5,
   "metadata": {},
   "outputs": [],
   "source": [
    "oof_pred = utils.from_pickle('stage2/oof_preds/seg/ensemble_0.6513_0.6551.pkl')\n",
    "cls_oof = utils.from_pickle('final/cls_ensemble_oof_0.8698.pkl')\n",
    "oof_true = utils.from_pickle('data/y_data.pkl')"
   ]
  },
  {
   "cell_type": "code",
   "execution_count": 4,
   "metadata": {},
   "outputs": [],
   "source": [
    "oof_stage1 = utils.from_pickle('stage1/oof_preds/seg/ensemble_0.6473_0.6553.pkl')\n",
    "oof_stage2 = utils.from_pickle('stage2/oof_preds/seg/ensemble_0.6513_0.6551.pkl')\n",
    "cls_oof = utils.from_pickle('final/cls_ensemble_oof_0.8698.pkl')\n",
    "oof_true = utils.from_pickle('data/y_data.pkl')"
   ]
  },
  {
   "cell_type": "code",
   "execution_count": null,
   "metadata": {},
   "outputs": [],
   "source": [
    "w1, w2  = 0.5, 0.5\n",
    "oof_pred = w1*oof_stage1 + w2*oof_stage2\n",
    "raw_score = dice_metric(oof_true, oof_pred>0.5)\n",
    "raw_score_str = str(raw_score)[:6]\n",
    "post_score = dice_metric(oof_true, postprocess(oof_pred))\n",
    "post_score_str = str(post_score)[:6]\n",
    "gc.collect()\n",
    "print(raw_score)"
   ]
  },
  {
   "cell_type": "code",
   "execution_count": 5,
   "metadata": {},
   "outputs": [],
   "source": [
    "test_stage1 = utils.from_pickle('stage1/test_preds/seg/ensemble_0.6473_0.6553.pkl')\n",
    "test_stage2 = utils.from_pickle('stage2/test_preds/seg/ensemble_0.6513_0.6551.pkl')\n",
    "test_pred = w1*test_stage1 + w2*test_stage2\n",
    "cls_test = utils.from_pickle('final/cls_ensemble_test_0.8698.pkl')"
   ]
  },
  {
   "cell_type": "code",
   "execution_count": null,
   "metadata": {},
   "outputs": [],
   "source": [
    "utils.to_pickle(f'final/seg_ensemble_oof_{raw_score_str}_{post_score_str}.pkl', oof_pred)\n",
    "utils.to_pickle(f'final/seg_ensemble_test_{raw_score_str}_{post_score_str}.pkl', test_pred)"
   ]
  },
  {
   "cell_type": "markdown",
   "metadata": {},
   "source": [
    "# Search Postprocess Params"
   ]
  },
  {
   "cell_type": "code",
   "execution_count": null,
   "metadata": {},
   "outputs": [
    {
     "name": "stdout",
     "output_type": "stream",
     "text": [
      "min_prob 0.48 0.6535\n",
      "min_prob 0.5 0.6533\n",
      "min_prob 0.52 0.6528\n",
      "min_cls 0.58 0.6534\n",
      "min_cls 0.6 0.6535\n"
     ]
    }
   ],
   "source": [
    "search_space = {\n",
    "    'min_prob': [0.48, 0.5, 0.52],\n",
    "    'min_size': [0.03, 0.05, 0.07],\n",
    "    'min_cls': [0.58, 0.6, 0.62],\n",
    "}\n",
    "\n",
    "search_space = {\n",
    "    'min_prob': [0.48, 0.5, 0.52],\n",
    "    'min_cls': [0.58, 0.6, 0.62],\n",
    "}\n",
    "\n",
    "best_score = -np.inf\n",
    "best_params = {}\n",
    "best_pred = None\n",
    "\n",
    "for key, values in search_space.items():\n",
    "    for value in values:\n",
    "        kwargs = best_params.copy()\n",
    "        kwargs[key] = value\n",
    "        oof_pred_bin = postprocess(oof_pred, cls_pred=cls_oof, **kwargs)\n",
    "        score = dice_metric(oof_true, oof_pred_bin)\n",
    "        print(key, value, str(score)[:6])\n",
    "        if score > best_score:\n",
    "            best_score = score\n",
    "            best_params[key] = value\n",
    "            best_pred = oof_pred_bin\n",
    "        gc.collect();\n",
    "\n",
    "best_score_str = str(best_score)[:6]\n",
    "print(best_params, best_score_str)"
   ]
  },
  {
   "cell_type": "markdown",
   "metadata": {},
   "source": [
    "# Submit"
   ]
  },
  {
   "cell_type": "code",
   "execution_count": 7,
   "metadata": {},
   "outputs": [],
   "source": [
    "test_pred_bin = postprocess(test_pred, cls_pred=cls_test)\n",
    "sub = pd.read_csv('data/sample_submission.csv')\n",
    "index = 0\n",
    "for i in range(len(test_pred_bin)):\n",
    "    cur = test_pred_bin[i, :, :, :]\n",
    "    rles = vision.build_rles(cur, reshape=(350, 525))\n",
    "    for rle in rles:\n",
    "        sub.loc[index, 'EncodedPixels'] = rle\n",
    "        index += 1\n",
    "sub.to_csv(f'submissions/final.csv', index=False)"
   ]
  },
  {
   "cell_type": "code",
   "execution_count": 8,
   "metadata": {},
   "outputs": [
    {
     "data": {
      "image/png": "[encoded data removed]",
      "text/plain": [
       "<Figure size 432x288 with 1 Axes>"
      ]
     },
     "metadata": {
      "needs_background": "light"
     },
     "output_type": "display_data"
    },
    {
     "data": {
      "image/png": "[encoded data removed]",
      "text/plain": [
       "<Figure size 432x288 with 1 Axes>"
      ]
     },
     "metadata": {
      "needs_background": "light"
     },
     "output_type": "display_data"
    },
    {
     "data": {
      "image/png": "[encoded data removed]",
      "text/plain": [
       "<Figure size 432x288 with 1 Axes>"
      ]
     },
     "metadata": {
      "needs_background": "light"
     },
     "output_type": "display_data"
    },
    {
     "data": {
      "image/png": "[encoded data removed]",
      "text/plain": [
       "<Figure size 432x288 with 1 Axes>"
      ]
     },
     "metadata": {
      "needs_background": "light"
     },
     "output_type": "display_data"
    },
    {
     "data": {
      "image/png": "[encoded data removed]",
      "text/plain": [
       "<Figure size 432x288 with 1 Axes>"
      ]
     },
     "metadata": {
      "needs_background": "light"
     },
     "output_type": "display_data"
    },
    {
     "data": {
      "image/png": "[encoded data removed]",
      "text/plain": [
       "<Figure size 432x288 with 1 Axes>"
      ]
     },
     "metadata": {
      "needs_background": "light"
     },
     "output_type": "display_data"
    },
    {
     "data": {
      "image/png": "[encoded data removed]",
      "text/plain": [
       "<Figure size 432x288 with 1 Axes>"
      ]
     },
     "metadata": {
      "needs_background": "light"
     },
     "output_type": "display_data"
    },
    {
     "data": {
      "image/png": "[encoded data removed]",
      "text/plain": [
       "<Figure size 432x288 with 1 Axes>"
      ]
     },
     "metadata": {
      "needs_background": "light"
     },
     "output_type": "display_data"
    },
    {
     "data": {
      "image/png": "[encoded data removed]",
      "text/plain": [
       "<Figure size 432x288 with 1 Axes>"
      ]
     },
     "metadata": {
      "needs_background": "light"
     },
     "output_type": "display_data"
    },
    {
     "data": {
      "image/png": "[encoded data removed]",
      "text/plain": [
       "<Figure size 432x288 with 1 Axes>"
      ]
     },
     "metadata": {
      "needs_background": "light"
     },
     "output_type": "display_data"
    }
   ],
   "source": [
    "tmp = sub[sub['EncodedPixels'].astype(bool)]\n",
    "for i in tmp.index[:10]:\n",
    "    plt.imshow(vision.rle2mask(tmp.loc[i, 'EncodedPixels'], input_shape=(350, 525)))\n",
    "    plt.show()"
   ]
  },
  {
   "cell_type": "code",
   "execution_count": null,
   "metadata": {},
   "outputs": [],
   "source": []
  }
 ],
 "metadata": {
  "kernelspec": {
   "display_name": "Python 3",
   "language": "python",
   "name": "python3"
  },
  "language_info": {
   "codemirror_mode": {
    "name": "ipython",
    "version": 3
   },
   "file_extension": ".py",
   "mimetype": "text/x-python",
   "name": "python",
   "nbconvert_exporter": "python",
   "pygments_lexer": "ipython3",
   "version": "3.7.4"
  }
 },
 "nbformat": 4,
 "nbformat_minor": 2
}
