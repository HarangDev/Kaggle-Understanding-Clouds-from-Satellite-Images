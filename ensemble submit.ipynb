{
 "cells": [
  {
   "cell_type": "code",
   "execution_count": 1,
   "metadata": {},
   "outputs": [
    {
     "data": {
      "application/javascript": [
       "if (window.IPython && IPython.notebook.kernel) IPython.notebook.kernel.execute('jovian.utils.jupyter.get_notebook_name_saved = lambda: \"' + IPython.notebook.notebook_name + '\"')"
      ],
      "text/plain": [
       "<IPython.core.display.Javascript object>"
      ]
     },
     "metadata": {},
     "output_type": "display_data"
    },
    {
     "name": "stderr",
     "output_type": "stream",
     "text": [
      "WARNING: Logging before flag parsing goes to stderr.\n",
      "W1119 08:36:36.929536  2492 deprecation_wrapper.py:119] From ..\\harang\\vision.py:22: The name tf.ConfigProto is deprecated. Please use tf.compat.v1.ConfigProto instead.\n",
      "\n",
      "W1119 08:36:36.932536  2492 deprecation_wrapper.py:119] From ..\\harang\\vision.py:24: The name tf.Session is deprecated. Please use tf.compat.v1.Session instead.\n",
      "\n",
      "W1119 08:36:37.774727  2492 deprecation_wrapper.py:119] From ..\\harang\\vision.py:25: The name tf.keras.backend.set_session is deprecated. Please use tf.compat.v1.keras.backend.set_session instead.\n",
      "\n"
     ]
    }
   ],
   "source": [
    "import pandas as pd\n",
    "import numpy as np\n",
    "import sys\n",
    "sys.path.append('..')\n",
    "from harang import utils, vision\n",
    "import cv2\n",
    "from sklearn.metrics import precision_recall_curve, auc\n",
    "import matplotlib.pyplot as plt\n",
    "import gc"
   ]
  },
  {
   "cell_type": "code",
   "execution_count": 2,
   "metadata": {},
   "outputs": [],
   "source": [
    "stage = 'stage2'"
   ]
  },
  {
   "cell_type": "code",
   "execution_count": 3,
   "metadata": {},
   "outputs": [],
   "source": [
    "def ensemble(paths, test=False, mode='cls'):\n",
    "    res = None\n",
    "    for path in paths:\n",
    "        if test:\n",
    "            path = f'{stage}/test_preds/{mode}/{path}'\n",
    "        else:\n",
    "            path = f'{stage}/oof_preds/{mode}/{path}'\n",
    "        if res is None:\n",
    "            res = utils.from_pickle(path)/len(paths)\n",
    "        else:\n",
    "            res += utils.from_pickle(path)/len(paths)\n",
    "    return res"
   ]
  },
  {
   "cell_type": "markdown",
   "metadata": {},
   "source": [
    "# Classification"
   ]
  },
  {
   "cell_type": "code",
   "execution_count": 4,
   "metadata": {},
   "outputs": [],
   "source": [
    "paths = [\n",
    "    'efficientnetb2_0.8704.pkl',\n",
    "    'efficientnetb3_0.8689.pkl',\n",
    "]"
   ]
  },
  {
   "cell_type": "code",
   "execution_count": 5,
   "metadata": {},
   "outputs": [],
   "source": [
    "def pr_auc(true, pred):\n",
    "    pr_auc_mean = 0\n",
    "    for class_i in range(4):\n",
    "        precision, recall, _ = precision_recall_curve(true[:, class_i], pred[:, class_i])\n",
    "        pr_auc = auc(recall, precision)\n",
    "        pr_auc_mean += pr_auc/4\n",
    "    return pr_auc_mean"
   ]
  },
  {
   "cell_type": "code",
   "execution_count": 6,
   "metadata": {},
   "outputs": [],
   "source": [
    "oof_pred = ensemble(paths, test=False, mode='cls')\n",
    "oof_true = utils.from_pickle('data/y_data.pkl').sum(axis=(1,2))!=0\n",
    "test_pred = ensemble(paths, test=True, mode='cls')"
   ]
  },
  {
   "cell_type": "code",
   "execution_count": 7,
   "metadata": {},
   "outputs": [
    {
     "name": "stdout",
     "output_type": "stream",
     "text": [
      "0.8714844759859993\n"
     ]
    }
   ],
   "source": [
    "score = pr_auc(oof_true, oof_pred)\n",
    "score_str = str(score)[:6]\n",
    "print(score)"
   ]
  },
  {
   "cell_type": "code",
   "execution_count": 8,
   "metadata": {},
   "outputs": [],
   "source": [
    "utils.to_pickle(f'{stage}/oof_preds/cls/ensemble_{score_str}.pkl', oof_pred)\n",
    "utils.to_pickle(f'{stage}/test_preds/cls/ensemble_{score_str}.pkl', test_pred)"
   ]
  },
  {
   "cell_type": "markdown",
   "metadata": {},
   "source": [
    "# Segmentation"
   ]
  },
  {
   "cell_type": "code",
   "execution_count": 6,
   "metadata": {},
   "outputs": [],
   "source": [
    "paths = [\n",
    "    'unet_efficientnetb2_0.6492.pkl',\n",
    "    'unet_efficientnetb3_0.6514.pkl',\n",
    "    'efficientnetb2_0.6482.pkl'\n",
    "]\n",
    "cls_path = 'ensemble_0.8714.pkl'"
   ]
  },
  {
   "cell_type": "code",
   "execution_count": 7,
   "metadata": {},
   "outputs": [],
   "source": [
    "def single_dice_metric(y_true, y_pred_bin):\n",
    "    intersection = np.sum(y_true * y_pred_bin)\n",
    "    if (np.sum(y_true)==0) and (np.sum(y_pred_bin)==0):\n",
    "        return 1\n",
    "    return (2*intersection) / (np.sum(y_true) + np.sum(y_pred_bin))\n",
    "\n",
    "def dice_metric(y_true, y_pred_bin):\n",
    "    batch_size = y_true.shape[0]\n",
    "    channel_num = y_true.shape[-1]\n",
    "    mean_dice_metric = 0.\n",
    "    for i in range(batch_size):\n",
    "        for j in range(channel_num):\n",
    "            mean_dice_metric += single_dice_metric(y_true[i, :, :, j], y_pred_bin[i, :, :, j]) / (channel_num*batch_size)\n",
    "    return mean_dice_metric"
   ]
  },
  {
   "cell_type": "code",
   "execution_count": 8,
   "metadata": {},
   "outputs": [],
   "source": [
    "def draw_convex_hull(mask, mode='convex'):\n",
    "    \n",
    "    img = np.zeros(mask.shape)\n",
    "    contours, hier = cv2.findContours(mask.astype(np.uint8), cv2.RETR_TREE, cv2.CHAIN_APPROX_SIMPLE)\n",
    "    \n",
    "    for c in contours:\n",
    "        if mode=='rect': # simple rectangle\n",
    "            x, y, w, h = cv2.boundingRect(c)\n",
    "            cv2.rectangle(img, (x, y), (x+w, y+h), (255, 255, 255), -1)\n",
    "        elif mode=='convex': # minimum convex hull\n",
    "            hull = cv2.convexHull(c)\n",
    "            cv2.drawContours(img, [hull], 0, (255, 255, 255),-1)\n",
    "        elif mode=='approx':\n",
    "            epsilon = 0.02*cv2.arcLength(c,True)\n",
    "            approx = cv2.approxPolyDP(c,epsilon,True)\n",
    "            cv2.drawContours(img, [approx], 0, (255, 255, 255),-1)\n",
    "        else: # minimum area rectangle\n",
    "            rect = cv2.minAreaRect(c)\n",
    "            box = cv2.boxPoints(rect)\n",
    "            box = np.int0(box)\n",
    "            cv2.drawContours(img, [box], 0, (255, 255, 255),-1)\n",
    "            \n",
    "    return (img/255.).astype(np.uint8)\n",
    "\n",
    "def fill_mask(pred, pred_bin, cls_pred, thresh, step):\n",
    "    fix_indices = np.where(pred_bin.sum(axis=(1,2,3))==0)[0]\n",
    "    if len(fix_indices) == 0:\n",
    "        return pred_bin\n",
    "    new_thresh = thresh-step\n",
    "    fix_channels = cls_pred[fix_indices].argmax(axis=1)\n",
    "    for i,c in zip(fix_indices, fix_channels):\n",
    "        pred_bin[i,:,:,c] = (pred[i,:,:,c]>new_thresh).astype(np.uint8)\n",
    "    pred_bin[fix_indices] = (pred[fix_indices]>new_thresh).astype(np.uint8)\n",
    "    return fill_mask(pred, pred_bin, cls_pred, new_thresh, step)\n",
    "\n",
    "def postprocess(y_pred, cls_pred=None, min_cls=0.6, min_prob=0.5, min_size=0.05, fill_step=None, convex=True):\n",
    "    if cls_pred is not None:\n",
    "        min_cls_pass = (cls_pred>min_cls).reshape(-1, 1, 1, 4)\n",
    "        y_pred = y_pred * min_cls_pass\n",
    "    mask = (y_pred>min_prob).astype(np.uint8)\n",
    "    res = np.zeros(mask.shape, dtype=np.uint8)\n",
    "    if min_size:\n",
    "        for i in range(len(mask)):\n",
    "            for j in range(4):\n",
    "                tmp = mask[i, :, :, j].copy()\n",
    "                num_component, component = cv2.connectedComponents(tmp.astype(np.uint8))\n",
    "                for c in range(1, num_component):\n",
    "                    p = (component == c)\n",
    "                    if p.sum() < min_size*tmp.shape[0]*tmp.shape[1]:\n",
    "                        tmp[p] = 0\n",
    "                res[i, :, :, j] = tmp\n",
    "        mask = res\n",
    "    if fill_step:\n",
    "        mask = fill_mask(y_pred, mask, cls_pred, min_prob, fill_step)\n",
    "    if convex:\n",
    "        res = np.zeros(mask.shape, dtype=np.uint8)\n",
    "        for i in range(len(mask)):\n",
    "            for j in range(4):\n",
    "                tmp = mask[i, :, :, j]\n",
    "                res[i, :, :, j] = draw_convex_hull(tmp)\n",
    "        mask = res\n",
    "    return mask"
   ]
  },
  {
   "cell_type": "code",
   "execution_count": 7,
   "metadata": {},
   "outputs": [
    {
     "name": "stdout",
     "output_type": "stream",
     "text": [
      "0.6513018523881846 0.6551144667454726\n"
     ]
    }
   ],
   "source": [
    "oof_pred = ensemble(paths, test=False, mode='seg')\n",
    "oof_true = utils.from_pickle('data/y_data.pkl')\n",
    "cls_oof = utils.from_pickle(f'{stage}/oof_preds/cls/{cls_path}')\n",
    "\n",
    "raw_score = dice_metric(oof_true, oof_pred>0.5)\n",
    "raw_score_str = str(raw_score)[:6]\n",
    "post_score = dice_metric(oof_true, postprocess(oof_pred, cls_oof))\n",
    "post_score_str = str(post_score)[:6]\n",
    "print(raw_score, post_score)"
   ]
  },
  {
   "cell_type": "code",
   "execution_count": 8,
   "metadata": {},
   "outputs": [
    {
     "ename": "NameError",
     "evalue": "name 'test_pred' is not defined",
     "output_type": "error",
     "traceback": [
      "\u001b[1;31m---------------------------------------------------------------------------\u001b[0m",
      "\u001b[1;31mNameError\u001b[0m                                 Traceback (most recent call last)",
      "\u001b[1;32m<ipython-input-8-2d1c92f24df6>\u001b[0m in \u001b[0;36m<module>\u001b[1;34m\u001b[0m\n\u001b[0;32m      1\u001b[0m \u001b[0mutils\u001b[0m\u001b[1;33m.\u001b[0m\u001b[0mto_pickle\u001b[0m\u001b[1;33m(\u001b[0m\u001b[1;34mf'{stage}/oof_preds/seg/ensemble_{raw_score_str}_{post_score_str}.pkl'\u001b[0m\u001b[1;33m,\u001b[0m \u001b[0moof_pred\u001b[0m\u001b[1;33m)\u001b[0m\u001b[1;33m\u001b[0m\u001b[1;33m\u001b[0m\u001b[0m\n\u001b[1;32m----> 2\u001b[1;33m \u001b[0mutils\u001b[0m\u001b[1;33m.\u001b[0m\u001b[0mto_pickle\u001b[0m\u001b[1;33m(\u001b[0m\u001b[1;34mf'{stage}/test_preds/seg/ensemble_{raw_score_str}_{post_score_str}.pkl'\u001b[0m\u001b[1;33m,\u001b[0m \u001b[0mtest_pred\u001b[0m\u001b[1;33m)\u001b[0m\u001b[1;33m\u001b[0m\u001b[1;33m\u001b[0m\u001b[0m\n\u001b[0m",
      "\u001b[1;31mNameError\u001b[0m: name 'test_pred' is not defined"
     ]
    }
   ],
   "source": [
    "utils.to_pickle(f'{stage}/oof_preds/seg/ensemble_{raw_score_str}_{post_score_str}.pkl', oof_pred)"
   ]
  },
  {
   "cell_type": "markdown",
   "metadata": {},
   "source": [
    "# Submission"
   ]
  },
  {
   "cell_type": "code",
   "execution_count": 4,
   "metadata": {},
   "outputs": [],
   "source": [
    "raw_score_str = 0.6513\n",
    "post_score_str = 0.6551"
   ]
  },
  {
   "cell_type": "code",
   "execution_count": 9,
   "metadata": {},
   "outputs": [],
   "source": [
    "test_pred = ensemble(paths, test=True, mode='seg')\n",
    "cls_test = utils.from_pickle(f'{stage}/test_preds/cls/{cls_path}')"
   ]
  },
  {
   "cell_type": "code",
   "execution_count": 10,
   "metadata": {},
   "outputs": [],
   "source": [
    "utils.to_pickle(f'{stage}/test_preds/seg/ensemble_{raw_score_str}_{post_score_str}.pkl', test_pred)"
   ]
  },
  {
   "cell_type": "code",
   "execution_count": 11,
   "metadata": {},
   "outputs": [],
   "source": [
    "test_pred_bin = postprocess(test_pred, cls_pred=cls_test)\n",
    "sub = pd.read_csv('data/sample_submission.csv')\n",
    "index = 0\n",
    "for i in range(len(test_pred_bin)):\n",
    "    cur = test_pred_bin[i, :, :, :]\n",
    "    rles = vision.build_rles(cur, reshape=(350, 525))\n",
    "    for rle in rles:\n",
    "        sub.loc[index, 'EncodedPixels'] = rle\n",
    "        index += 1\n",
    "sub.to_csv(f'submissions/{post_score_str}.csv', index=False)"
   ]
  },
  {
   "cell_type": "code",
   "execution_count": 12,
   "metadata": {},
   "outputs": [
    {
     "data": {
      "image/png": "[encoded data removed]",
      "text/plain": [
       "<Figure size 432x288 with 1 Axes>"
      ]
     },
     "metadata": {
      "needs_background": "light"
     },
     "output_type": "display_data"
    },
    {
     "data": {
      "image/png": "[encoded data removed]",
      "text/plain": [
       "<Figure size 432x288 with 1 Axes>"
      ]
     },
     "metadata": {
      "needs_background": "light"
     },
     "output_type": "display_data"
    },
    {
     "data": {
      "image/png": "[encoded data removed]",
      "text/plain": [
       "<Figure size 432x288 with 1 Axes>"
      ]
     },
     "metadata": {
      "needs_background": "light"
     },
     "output_type": "display_data"
    },
    {
     "data": {
      "image/png": "[encoded data removed]",
      "text/plain": [
       "<Figure size 432x288 with 1 Axes>"
      ]
     },
     "metadata": {
      "needs_background": "light"
     },
     "output_type": "display_data"
    },
    {
     "data": {
      "image/png": "[encoded data removed]",
      "text/plain": [
       "<Figure size 432x288 with 1 Axes>"
      ]
     },
     "metadata": {
      "needs_background": "light"
     },
     "output_type": "display_data"
    },
    {
     "data": {
      "image/png": "[encoded data removed]",
      "text/plain": [
       "<Figure size 432x288 with 1 Axes>"
      ]
     },
     "metadata": {
      "needs_background": "light"
     },
     "output_type": "display_data"
    },
    {
     "data": {
      "image/png": "[encoded data removed]",
      "text/plain": [
       "<Figure size 432x288 with 1 Axes>"
      ]
     },
     "metadata": {
      "needs_background": "light"
     },
     "output_type": "display_data"
    },
    {
     "data": {
      "image/png": "[encoded data removed]",
      "text/plain": [
       "<Figure size 432x288 with 1 Axes>"
      ]
     },
     "metadata": {
      "needs_background": "light"
     },
     "output_type": "display_data"
    },
    {
     "data": {
      "image/png": "[encoded data removed]",
      "text/plain": [
       "<Figure size 432x288 with 1 Axes>"
      ]
     },
     "metadata": {
      "needs_background": "light"
     },
     "output_type": "display_data"
    },
    {
     "data": {
      "image/png": "[encoded data removed]",
      "text/plain": [
       "<Figure size 432x288 with 1 Axes>"
      ]
     },
     "metadata": {
      "needs_background": "light"
     },
     "output_type": "display_data"
    }
   ],
   "source": [
    "tmp = sub[sub['EncodedPixels'].astype(bool)]\n",
    "for i in tmp.index[:10]:\n",
    "    plt.imshow(vision.rle2mask(tmp.loc[i, 'EncodedPixels'], input_shape=(350, 525)))\n",
    "    plt.show()"
   ]
  },
  {
   "cell_type": "code",
   "execution_count": null,
   "metadata": {},
   "outputs": [],
   "source": []
  }
 ],
 "metadata": {
  "kernelspec": {
   "display_name": "Python 3",
   "language": "python",
   "name": "python3"
  },
  "language_info": {
   "codemirror_mode": {
    "name": "ipython",
    "version": 3
   },
   "file_extension": ".py",
   "mimetype": "text/x-python",
   "name": "python",
   "nbconvert_exporter": "python",
   "pygments_lexer": "ipython3",
   "version": "3.7.4"
  }
 },
 "nbformat": 4,
 "nbformat_minor": 2
}
